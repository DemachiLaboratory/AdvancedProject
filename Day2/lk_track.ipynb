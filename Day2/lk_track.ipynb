{
 "cells": [
  {
   "cell_type": "markdown",
   "metadata": {},
   "source": [
    "# Lucas-Kanade法\n",
    "- Lucas-Kanade法を使ったオプティカルフローの計算方法を学びます\n",
    "- 同画像中の特徴点の追跡のために` cv2.calcOpticalFlowPyrLK() ` 関数などを使います"
   ]
  },
  {
   "cell_type": "markdown",
   "metadata": {},
   "source": [
    "ライブラリのインポート"
   ]
  },
  {
   "cell_type": "code",
   "execution_count": null,
   "metadata": {},
   "outputs": [],
   "source": [
    "import numpy as np\n",
    "import cv2"
   ]
  },
  {
   "cell_type": "markdown",
   "metadata": {},
   "source": [
    "ファイルから動画を読み込む:"
   ]
  },
  {
   "cell_type": "code",
   "execution_count": null,
   "metadata": {},
   "outputs": [],
   "source": [
    "cap = cv2.VideoCapture('vtest.avi')"
   ]
  },
  {
   "cell_type": "markdown",
   "metadata": {},
   "source": [
    "Shi-Tomasiのコーナー検出パラメータ:\n",
    "- maxCorners: int, 保持するコーナー数\n",
    "- qualityLevel: double, 最良値(最大固有値の割合?)\n",
    "- minDistance: double, この距離内のコーナーを棄却\n",
    "- blockSize: int, 使用する近傍領域のサイズ\n",
    "- useHarrisDetector: bool, Harris法/Shi-Tomashi法 "
   ]
  },
  {
   "cell_type": "code",
   "execution_count": null,
   "metadata": {},
   "outputs": [],
   "source": [
    "feature_params = dict(maxCorners=255,             \n",
    "                      qualityLevel=0.3,           \n",
    "                      minDistance=7,             \n",
    "                      blockSize=7,                \n",
    "                      useHarrisDetector=False,    \n",
    "                     )"
   ]
  },
  {
   "cell_type": "markdown",
   "metadata": {},
   "source": [
    "Lucas-Kanade法のパラメータ:\n",
    "- winSize: 検索ウィンドウのサイズ\n",
    "- maxLevel: 追加するピラミッド層数\n",
    "- criteria: 検索を終了する条件\n",
    "- flags: 推測値や固有値の使用"
   ]
  },
  {
   "cell_type": "code",
   "execution_count": null,
   "metadata": {},
   "outputs": [],
   "source": [
    "lk_params = dict(winSize=(15, 15),           \n",
    "                 maxLevel=2,                                \n",
    "                 criteria=(cv2.TERM_CRITERIA_EPS | cv2.TERM_CRITERIA_COUNT,\n",
    "                           10,\n",
    "                           0.03\n",
    "                          ),\n",
    "                 flags=cv2.OPTFLOW_LK_GET_MIN_EIGENVALS,\n",
    "                )"
   ]
  },
  {
   "cell_type": "markdown",
   "metadata": {},
   "source": [
    "何色でフローを描くか、色のリストを作る:"
   ]
  },
  {
   "cell_type": "code",
   "execution_count": null,
   "metadata": {},
   "outputs": [],
   "source": [
    "color = np.random.randint(low=0,                  # 0から\n",
    "                          high=255,               # 255までの (輝度値なので0~255になります)\n",
    "                          size=(255, 3)           # 255(255個の特徴点を検出したいので)×3(RGBなので)の行列を作る\n",
    "                         )"
   ]
  },
  {
   "cell_type": "markdown",
   "metadata": {},
   "source": [
    "最初のフレームを読み込む"
   ]
  },
  {
   "cell_type": "code",
   "execution_count": null,
   "metadata": {},
   "outputs": [],
   "source": [
    "ret, first_frame = cap.read()"
   ]
  },
  {
   "cell_type": "markdown",
   "metadata": {},
   "source": [
    "グレースケール変換:"
   ]
  },
  {
   "cell_type": "code",
   "execution_count": null,
   "metadata": {},
   "outputs": [],
   "source": [
    "first_gray = cv2.cvtColor(first_frame, cv2.COLOR_BGR2GRAY)"
   ]
  },
  {
   "cell_type": "markdown",
   "metadata": {},
   "source": [
    "` cv2.goodFeaturesToTrack()`関数を使って、読み込んだフレームの特徴点を探す:"
   ]
  },
  {
   "cell_type": "code",
   "execution_count": null,
   "metadata": {},
   "outputs": [],
   "source": [
    "prev_points = cv2.goodFeaturesToTrack(image=first_gray,       \n",
    "                                      mask=None,              \n",
    "                                      **feature_params\n",
    "                                     )"
   ]
  },
  {
   "cell_type": "markdown",
   "metadata": {},
   "source": [
    " 結果を描く画像のレイヤーを作る:"
   ]
  },
  {
   "cell_type": "code",
   "execution_count": null,
   "metadata": {},
   "outputs": [],
   "source": [
    "flow_layer = np.zeros_like(first_frame)"
   ]
  },
  {
   "cell_type": "markdown",
   "metadata": {},
   "source": [
    "OpenCVは上記の全ての処理を行う` cv2.calcOpticalFlowPyrLK()` という関数を用意しています。ここでは同画像中の複数の点を追跡するアプリケーションを作成します。追跡する点を決めるために` cv2.goodFeaturesToTrack()` 関数を使います。1枚目の画像を撮影し、Shi-Tomasiのコーナーを検出します。それ以降、Lucas-Kanade法を使ってこれらの点を繰り返し追跡します。関数` cv2.calcOpticalFlowPyrLK()` を使う場合、前フレーム、前フレームでの店の位置、現フレームを入力します。返戻値は次のフレームでの点の位置と状態変数です。状態変数は次の画像中で点が見つかれば1、そうでなければ0になります。新しく検出した点を更に次のフレームでの入力に使用し、この処理を繰り返し行います。"
   ]
  },
  {
   "cell_type": "code",
   "execution_count": null,
   "metadata": {},
   "outputs": [],
   "source": [
    "old_frame = first_frame\n",
    "old_gray = first_gray\n",
    "while True:\n",
    "\n",
    "    # 2枚目以降のフレームの読み込み\n",
    "    ret, frame = cap.read()\n",
    "\n",
    "    # グレースケール変換\n",
    "    frame_gray = cv2.cvtColor(frame, cv2.COLOR_BGR2GRAY)\n",
    "\n",
    "    # オプティカルフロー(正確には対応点)の検出\n",
    "    next_points, status, err = cv2.calcOpticalFlowPyrLK(prevImg=old_gray,           # 前の画像(t-1)\n",
    "                                                        nextImg=frame_gray,         # 次の画像(t)\n",
    "                                                        prevPts=prev_points,        # 始点2次元ベクトル, 特徴点やそれに準ずる点\n",
    "                                                        nextPts=None,               # 結果の2次元ベクトル\n",
    "                                                        **lk_params\n",
    "                                                        )\n",
    "\n",
    "    # 正しく特徴点と対応点が検出できた点のみに絞る\n",
    "    # todo: 数フレームおきに特徴点を検出しなおさないと，対応点が無くなるのでエラーになります\n",
    "    good_new = next_points[status == 1]\n",
    "    good_old = prev_points[status == 1]\n",
    "\n",
    "    # フローを描く\n",
    "    for rank, (prev_p, next_p) in enumerate(zip(good_old, good_new)):\n",
    "\n",
    "        # x,y座標の取り出し\n",
    "        prev_x, prev_y = prev_p.ravel()\n",
    "        next_x, next_y = next_p.ravel()\n",
    "\n",
    "        # フローの線を描く\n",
    "        flow_layer = cv2.line(img=flow_layer,                 # 描く画像\n",
    "                              pt1=(prev_x, prev_y),           # 線を引く始点\n",
    "                              pt2=(next_x, next_y),           # 線を引く終点\n",
    "                              color=color[rank].tolist(),     # 描く色\n",
    "                              thickness=2,                    # 線の太さ\n",
    "                             )\n",
    "        # フローの特徴点を描く\n",
    "        flow_layer = cv2.circle(img=flow_layer,                 # 描く画像\n",
    "                                center=(prev_x, prev_y),        # 円の中心\n",
    "                                radius=5,                       # 円の半径\n",
    "                                color=color[rank].tolist(),     # 描く色\n",
    "                                thickness=1                     # 円の線の太さ\n",
    "                               )\n",
    "\n",
    "    # 元の画像に重ねる\n",
    "    result_img = cv2.add(frame, flow_layer)\n",
    "\n",
    "    # 結果画像の表示\n",
    "    cv2.imshow(\"frame\", result_img)\n",
    "    k = cv2.waitKey(30) & 0xff\n",
    "    if k == 27:\n",
    "        break\n",
    "\n",
    "    # 次のフレームを読み込む準備\n",
    "    old_gray = frame_gray.copy()\n",
    "    prev_points = good_new.reshape(-1, 1, 2)\n",
    "\n",
    "cv2.destroyAllWindows()\n",
    "cap.release()"
   ]
  }
 ],
 "metadata": {
  "kernelspec": {
   "display_name": "Python 3",
   "language": "python",
   "name": "python3"
  },
  "language_info": {
   "codemirror_mode": {
    "name": "ipython",
    "version": 3
   },
   "file_extension": ".py",
   "mimetype": "text/x-python",
   "name": "python",
   "nbconvert_exporter": "python",
   "pygments_lexer": "ipython3",
   "version": "3.5.5"
  }
 },
 "nbformat": 4,
 "nbformat_minor": 2
}
