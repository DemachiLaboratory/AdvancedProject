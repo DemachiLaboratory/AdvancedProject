{
 "cells": [
  {
   "cell_type": "markdown",
   "metadata": {},
   "source": [
    "# 色空間の変換\n",
    "- ここでは画像を異なる色空間に変換する方法を学びます。\n",
    "- 以下の関数の使い方を学びます: `cv2.cvtColor()`"
   ]
  },
  {
   "cell_type": "markdown",
   "metadata": {},
   "source": [
    "### ライブラリのインポート"
   ]
  },
  {
   "cell_type": "code",
   "execution_count": null,
   "metadata": {},
   "outputs": [],
   "source": [
    "import numpy as np\n",
    "import cv2"
   ]
  },
  {
   "cell_type": "markdown",
   "metadata": {},
   "source": [
    "OpenCVライブラリでは、`cv2.cvtColor`メソッドでRGBの画像を異なる色空間に変換できます。<br/>\n",
    "```\n",
    "cv2.cvtColor(input_image, flag)\n",
    "```\n",
    "第1引数は読み込む入力画像です。<br/>\n",
    "第2引数は色変換の種類を指定するフラグです:<br/>\n",
    "BGR → Gray変換には`cv2.COLOR_BGR2GRAY`フラグ、BGR → HSV変換には`cv2.COLOR_BGR2HSV`フラグを指定します。その他のフラグについて知りたければ、以下のコマンドを実行するとPythonのターミナル上にフラグが列挙されます:"
   ]
  },
  {
   "cell_type": "code",
   "execution_count": null,
   "metadata": {},
   "outputs": [],
   "source": [
    "flags = [i for i in dir(cv2) if i.startswith('COLOR_')]\n",
    "print(flags)"
   ]
  },
  {
   "cell_type": "markdown",
   "metadata": {},
   "source": [
    "## 1. グレースケール変換\n",
    "RGB画像をグレースケール画像に変換する場合は以下の式を利用します。\n",
    "```\n",
    "Gray = Red × 0.3 + Greed × 0.59 + Blue × 0.11\n",
    "```\n",
    "Red（赤）、Green（緑）、Blue（青）はRGBカラー画像の画素値です。<br/>\n",
    "Grayはグレースケール画像の画素値です。<br/>\n",
    "今回は、`cv2.cvtColor`メソッドを利用する方法を試してみます。"
   ]
  },
  {
   "cell_type": "code",
   "execution_count": null,
   "metadata": {},
   "outputs": [],
   "source": [
    "# 入力画像の読み込み\n",
    "img = cv2.imread('si.jpg')\n",
    "\n",
    "## TODO\n",
    "gray =              # cv2.cvtColorメソッドを利用する\n",
    "\n",
    "## TODO\n",
    "\n",
    "# 結果を出力\n",
    "cv2.imwrite('gray.jpg', gray)"
   ]
  },
  {
   "cell_type": "markdown",
   "metadata": {},
   "source": [
    "## 2. HSV変換\n",
    "HSVの各成分はそれぞれ、Hueが色相、Saturation(Chroma)が彩度、Value(Lightness)が明度を意味します。それぞれuHeは[0,179]、Saturationは[0,255]、Valueは[0,255]の範囲の値をとります。使用するソフトウェアによって値の範囲が異なるので、OpenCVで得られた値と別ソフトウェアで得られた値を比較する場合は、値の正規化をしなければいけません。<br/>\n",
    "今回は、`cv2.cvtColor`メソッドを利用する方法を試してみます。"
   ]
  },
  {
   "cell_type": "code",
   "execution_count": null,
   "metadata": {},
   "outputs": [],
   "source": [
    "# 入力画像の読み込み\n",
    "img = cv2.imread('si.jpg')\n",
    "\n",
    "## TODO\n",
    "hsv =              # cv2.cvtColorメソッドを利用する\n",
    "\n",
    "## TODO\n",
    "\n",
    "# 結果を出力\n",
    "cv2.imwrite('hsv.jpg', hsv)"
   ]
  }
 ],
 "metadata": {
  "kernelspec": {
   "display_name": "Python 3",
   "language": "python",
   "name": "python3"
  },
  "language_info": {
   "codemirror_mode": {
    "name": "ipython",
    "version": 3
   },
   "file_extension": ".py",
   "mimetype": "text/x-python",
   "name": "python",
   "nbconvert_exporter": "python",
   "pygments_lexer": "ipython3",
   "version": "3.6.7"
  }
 },
 "nbformat": 4,
 "nbformat_minor": 2
}
