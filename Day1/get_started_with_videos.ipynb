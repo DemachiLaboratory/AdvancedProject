{
 "cells": [
  {
   "cell_type": "markdown",
   "metadata": {},
   "source": [
    "# 動画を扱う\n",
    "- 動画ファイルの読み込み方、表示方法、保存方法を学びます。\n",
    "- PCに接続したカメラを使って撮影した映像を表示する方法を学びます。\n",
    "- 以下の関数の使い方を学びます: `cv2.VideoCapture()`, `cv2.VideoWriter()`。"
   ]
  },
  {
   "cell_type": "markdown",
   "metadata": {},
   "source": [
    "### ライブラリのインポート"
   ]
  },
  {
   "cell_type": "code",
   "execution_count": null,
   "metadata": {},
   "outputs": [],
   "source": [
    "import numpy as np\n",
    "import cv2"
   ]
  },
  {
   "cell_type": "markdown",
   "metadata": {},
   "source": [
    "## 1. カメラから動画を撮影する\n",
    "OpenCVはカメラを使って動画を撮影するための非常に単純なインタフェースを用意しています。カメラを使って撮影した動画をグレースケールの動画に変換して表示させましょう。<br/>\n",
    "動画を撮影するには`VideoCapture`型のオブジェクトを生成しなければいけません。引数には撮影に使用するカメラのデバイス番号か読み込みたい動画ファイルのファイル名を指定します。デバイス番号はコンピュータに接続されているカメラを識別するための番号です。普通は1台のカメラが接続されているので、0もしくは -1をデバイス番号として指定します．もちろん，1やそれ以上の番号を指定することも可能です。`VideoCapture`型のオブジェクトを生成してしまえば、1フレームごとに撮影することが可能です。ただし、撮影終了後にビデオ撮影を解放することを忘れないでください。"
   ]
  },
  {
   "cell_type": "code",
   "execution_count": null,
   "metadata": {},
   "outputs": [],
   "source": [
    "cap = cv2.VideoCapture(0)\n",
    "ret, frame = cap.read()"
   ]
  },
  {
   "cell_type": "markdown",
   "metadata": {},
   "source": [
    "`cap.read()`は (`True` / `False`)の2値の値を返します。フレームの読み込みが正しく行われれば`True`を返すので、この関数の返戻値によって動画ファイルの最後まで到達したかどうかを確認できます。"
   ]
  },
  {
   "cell_type": "markdown",
   "metadata": {},
   "source": [
    "オブジェクト`cap`が初期化できないことがあります。そのような場合、このコードはエラーを表示するようになっています。`cap.isOpened()`関数を使い、`True`が返ってくるか見ることで初期化の成功を確認できます。"
   ]
  },
  {
   "cell_type": "code",
   "execution_count": null,
   "metadata": {},
   "outputs": [],
   "source": [
    "while(cap.isOpened()):\n",
    "    # フレームを取得\n",
    "    ret, frame = cap.read()\n",
    "\n",
    "    # フレームを表示する\n",
    "    cv2.imshow('frame', frame)\n",
    "    \n",
    "    if cv2.waitKey(1) & 0xFF == ord('q'):\n",
    "        break\n",
    "        \n",
    "# 撮影終了後にビデオ撮影を解放することを忘れないでください\n",
    "cap.release()\n",
    "cv2.destroyAllWindows()"
   ]
  },
  {
   "cell_type": "markdown",
   "metadata": {},
   "source": [
    "## 2. ファイルから動画を読み込む\n",
    "ファイルから動画を読み込む方法は，基本的にはカメラから動画を撮影する方法と同じです。デバイス番号を動画ファイルのファイル名に変えるだけです。フレームを表示している間は`cv2.waitKey()`に適切な時間を設定してください。設定する時間が極端に短いと動画が高速に再生されてしまいますし、逆に長く設定すると極端なスロー再生になってしまします。"
   ]
  },
  {
   "cell_type": "code",
   "execution_count": null,
   "metadata": {},
   "outputs": [],
   "source": [
    "cap = cv2.VideoCapture('vtest.avi')\n",
    "\n",
    "while(cap.isOpened()):\n",
    "    # フレームを取得\n",
    "    ret, frame = cap.read()\n",
    "\n",
    "    if (ret == False):\n",
    "        break\n",
    "\n",
    "    # フレームを表示する\n",
    "    cv2.imshow('frame', frame)\n",
    "    \n",
    "    if cv2.waitKey(1) & 0xFF == ord('q'):\n",
    "        break\n",
    "\n",
    "# 撮影終了後にビデオ撮影を解放することを忘れないでください\n",
    "cap.release()\n",
    "cv2.destroyAllWindows()"
   ]
  },
  {
   "cell_type": "markdown",
   "metadata": {},
   "source": [
    "## 3. 動画を保存する\n",
    "現時点で動画を撮影し、1フレームごとに処理ができるようになったので、次は動画をファイルに保存しましょう。画像として保存するなら `cv2.imwrite()`関数を使うだけで十分ですが、動画ファイルとして保存するにはひと工夫必要です。<br/>\n",
    "動画ファイルとして保存するために`VideoWriter`型のオブジェクトを生成します。<br/>\n",
    "- 第1引数は保存する動画名(例: output.avi)を指定します。\n",
    "- 第2~第4引数は`FourCC`コード(FourCC は動画のコーデックを指定するための4バイトのコードです、使用可能なコードのリストは[fourcc.org](fourcc.org)で確認できます。プラットフォーム依存なので気を付けてください)を指定し、動画の再生速度(fps)と解像度を設定します。\n",
    "- 最後の引数は`isColor`フラグを指定します。このフラグが`True`であればカラーの動画、そうでなければグレースケールの動画として保存されます。"
   ]
  },
  {
   "cell_type": "code",
   "execution_count": null,
   "metadata": {},
   "outputs": [],
   "source": [
    "fourcc = cv2.VideoWriter_fourcc(*'XVID')\n",
    "out = cv2.VideoWriter('output.avi', fourcc, 20.0, (640,480))"
   ]
  },
  {
   "cell_type": "markdown",
   "metadata": {},
   "source": [
    "## まとめると\n",
    "PCに接続したカメラを使って撮影した映像を表示して、保存する。 "
   ]
  },
  {
   "cell_type": "code",
   "execution_count": null,
   "metadata": {},
   "outputs": [],
   "source": [
    "import numpy as np\n",
    "import cv2\n",
    "\n",
    "## TODO\n",
    "# 動画を撮影するため\n",
    "cap = \n",
    "\n",
    "# 動画のコーデックを指定するための4バイトのコードです(Windows OSの場合は'DIVX')\n",
    "fourcc = \n",
    "\n",
    "# 動画ファイルとして保存するため\n",
    "out = \n",
    "\n",
    "while( ): # Trueが返ってくるか見ることでcap初期化の成功を確認できる\n",
    "    # フレームを取得\n",
    "    ret, frame = \n",
    "    if ret == True: # フレームの読み込みが正しく行われれば True を返す\n",
    "        frame = cv2.flip(frame, 0)\n",
    "        \n",
    "        # 動画を保存する\n",
    "        out.write(frame)\n",
    "        \n",
    "        # フレームを表示する\n",
    "        cv2.imshow('frame', frame)\n",
    "        if cv2.waitKey(1) & 0xFF == ord('q'):\n",
    "            break\n",
    "    else:\n",
    "        break\n",
    "## TODO\n",
    "\n",
    "# 撮影終了後にビデオ撮影を解放することを忘れないでください\n",
    "cap.release()\n",
    "out.release()\n",
    "cv2.destroyAllWindows()"
   ]
  }
 ],
 "metadata": {
  "kernelspec": {
   "display_name": "Python 3",
   "language": "python",
   "name": "python3"
  },
  "language_info": {
   "codemirror_mode": {
    "name": "ipython",
    "version": 3
   },
   "file_extension": ".py",
   "mimetype": "text/x-python",
   "name": "python",
   "nbconvert_exporter": "python",
   "pygments_lexer": "ipython3",
   "version": "3.5.5"
  }
 },
 "nbformat": 4,
 "nbformat_minor": 2
}
