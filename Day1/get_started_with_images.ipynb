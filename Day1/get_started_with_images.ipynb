{
 "cells": [
  {
   "cell_type": "markdown",
   "metadata": {},
   "source": [
    "# 画像を扱う\n",
    "- ここでは画像ファイルを読み込む方法、表示する方法、保存する方法を学びます。\n",
    "- 以下の関数の使い方を学びます: `cv2.imread()`, `cv2.imshow()`, `cv2.imwrite()`"
   ]
  },
  {
   "cell_type": "markdown",
   "metadata": {},
   "source": [
    "### ライブラリのインポート"
   ]
  },
  {
   "cell_type": "code",
   "execution_count": null,
   "metadata": {},
   "outputs": [],
   "source": [
    "import numpy as np\n",
    "import cv2"
   ]
  },
  {
   "cell_type": "markdown",
   "metadata": {},
   "source": [
    "## 1. 画像を読み込む\n",
    "画像ファイルを読み込むには`cv2.imread()`という関数を使います。画像ファイルが作業ディレクトリ内に保存されている場合はファイル名のみを指定し、そうでない場合は絶対パスもしくは適切な相対パスで指定しなければいけません。<br/>\n",
    "```\n",
    "cv2.imread(filename[,flag])\n",
    "```\n",
    "第1引数は読み込む対象のファイルです。<br/>\n",
    "第2引数は画像の読み込み方法を指定するためのフラグです:\n",
    "- `cv2.IMREAD_COLOR` : カラー画像として読み込む．画像の透明度は無視される．デフォルト値\n",
    "- `cv2.IMREAD_GRAYSCALE` : グレースケール画像として読み込む\n",
    "- `cv2.IMREAD_UNCHANGED` : アルファチャンネルも含めた画像として読み込む\n",
    "<br/>（note: 上記のフラグを使う代わりに、単に1, 0, -1 の整数値を与えて指定することもできます。）"
   ]
  },
  {
   "cell_type": "code",
   "execution_count": null,
   "metadata": {},
   "outputs": [],
   "source": [
    "img = cv2.imread('si.jpg', 1)"
   ]
  },
  {
   "cell_type": "markdown",
   "metadata": {},
   "source": [
    "画像ファイルのパスが間違っている場合、エラーは返しませんが`print(img)`とコマンドを実行すると`None`と表示されます。"
   ]
  },
  {
   "cell_type": "markdown",
   "metadata": {},
   "source": [
    "## 2. 画像を表示する\n",
    "画像をウィンドウ上に表示するには`cv2.imshow()`という関数を使います。ウィンドウのサイズは自動で画像サイズに合わせられます。\n",
    "```\n",
    "cv2.imshow(windowname, img)\n",
    "```\n",
    "第1引数は文字列型で指定するウィンドウ名です。<br/>\n",
    "第2引数は表示したい画像です。必要に応じて複数個のウィンドウを表示させることができますが、各ウィンドウには異なる名前をつけなければいけません。<br/>"
   ]
  },
  {
   "cell_type": "code",
   "execution_count": null,
   "metadata": {},
   "outputs": [],
   "source": [
    "cv2.imshow('image', img)\n",
    "cv2.waitKey(0)\n",
    "cv2.destroyAllWindows()"
   ]
  },
  {
   "cell_type": "markdown",
   "metadata": {},
   "source": [
    "`cv2.waitKey()`はキーボード入力を処理する関数です．引数は入力待ち時間でミリ秒単位で指定します．この関数は，指定された時間だけキーボード入力を受け付けます。入力待ちの間に何かのキーを打てば，プログラムはそれ以降の処理を実行します。引数に 0 を指定した時は，何かしらのキーを打つまでキー入力を無期限で待ち続けます。以下で説明しますが，特定のキー入力のみを待つ(例えば a のみを待つ)ことも可能です。<br/>\n",
    "`cv2.destroyAllWindows()`は現在までに作られた全てのウィンドウを閉じる関数です。特定のウィンドウのみを閉じる場合は`cv2.destroyWindow()` 関数に閉じたいウィンドウ名を指定してください。"
   ]
  },
  {
   "cell_type": "markdown",
   "metadata": {},
   "source": [
    "## 3. 画像を保存する\n",
    "画像を保存するには`cv2.imwrite()`関数を使います。\n",
    "```\n",
    "cv2.imwrite(imagename, img)\n",
    "```\n",
    "第1引数は画像のファイル名。\n",
    "第2引数は保存したい画像です。"
   ]
  },
  {
   "cell_type": "code",
   "execution_count": null,
   "metadata": {},
   "outputs": [],
   "source": [
    "cv2.imwrite('output.png', img)"
   ]
  },
  {
   "cell_type": "markdown",
   "metadata": {},
   "source": [
    "## まとめると\n",
    "以下が画像をグレースケール画像として読み込み、ウィンドウに表示し、's' というキーを押すと画像を保存してから、ESC を押すと画像を保存せずに終了するプログラムです。"
   ]
  },
  {
   "cell_type": "code",
   "execution_count": null,
   "metadata": {},
   "outputs": [],
   "source": [
    "import numpy as np\n",
    "import cv2\n",
    "\n",
    "## TODO\n",
    "# 画像を読み込む\n",
    "img = \n",
    "\n",
    "# 画像を表示する\n",
    "\n",
    "# キーボード入力を処理する\n",
    "k = \n",
    "if k == 27: # wait for ESC key to exit\n",
    "    # 現在までに作られた全てのウィンドウを閉じる\n",
    "    \n",
    "elif k == ord('s'): # wait for 's' key to save and exit\n",
    "    # 画像を保存する\n",
    "    \n",
    "    # 現在までに作られた全てのウィンドウを閉じる\n",
    "    \n",
    "## TODO"
   ]
  }
 ],
 "metadata": {
  "kernelspec": {
   "display_name": "Python 3",
   "language": "python",
   "name": "python3"
  },
  "language_info": {
   "codemirror_mode": {
    "name": "ipython",
    "version": 3
   },
   "file_extension": ".py",
   "mimetype": "text/x-python",
   "name": "python",
   "nbconvert_exporter": "python",
   "pygments_lexer": "ipython3",
   "version": "3.5.5"
  }
 },
 "nbformat": 4,
 "nbformat_minor": 2
}
